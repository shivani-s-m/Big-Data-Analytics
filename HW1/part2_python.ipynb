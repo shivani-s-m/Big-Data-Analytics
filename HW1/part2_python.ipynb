{
 "cells": [
  {
   "cell_type": "markdown",
   "metadata": {
    "deletable": false,
    "editable": false,
    "nbgrader": {
     "checksum": "0a8b253cea124309dc7872a31b41818e",
     "grade": false,
     "grade_id": "cell-b038e38b5e3072a9",
     "locked": true,
     "schema_version": 1,
     "solution": false
    }
   },
   "source": [
    "# IST 718: Big Data Analytics\n",
    "\n",
    "- Professor: Daniel Acuna <deacuna@syr.edu>\n",
    "\n",
    "## General instructions:\n",
    "\n",
    "- You are welcome to discuss the problems with your classmates but __you are not allowed to copy any part of your answers either from your classmates or from the internet__\n",
    "- You can put the homework files anywhere you want in your https://jupyterhub.ischool.syr.edu/ workspace but _do not change_ the file names. The TAs and the professor use these names to grade your homework.\n",
    "- Remove or comment out code that contains `raise NotImplementedError`. This is mainly to make the `assert` statement fail if nothing is submitted.\n",
    "- The tests shown in some cells (i.e., `assert` and `np.testing.` statements) are used to grade your answers. **However, the professor and TAs will use __additional__ test for your answer. Think about cases where your code should run even if it passess all the tests you see.**\n",
    "- Before downloading and submitting your work through Blackboard, remember to save and press `Validate` (or go to \n",
    "`Kernel`$\\rightarrow$`Restart and Run All`). \n",
    "- Good luck!"
   ]
  },
  {
   "cell_type": "code",
   "execution_count": 1,
   "metadata": {
    "deletable": false,
    "editable": false,
    "nbgrader": {
     "checksum": "f2c7620f6ddaca0b8dfd5b191183fce5",
     "grade": false,
     "grade_id": "cell-6c54a5ae2ade0b80",
     "locked": true,
     "schema_version": 1,
     "solution": false
    }
   },
   "outputs": [],
   "source": [
    "# use only these packages\n",
    "import numpy as np\n",
    "import pandas as pd\n",
    "import matplotlib.pyplot as plt"
   ]
  },
  {
   "cell_type": "markdown",
   "metadata": {},
   "source": [
    "## Part 2. Basic Python programming"
   ]
  },
  {
   "cell_type": "markdown",
   "metadata": {},
   "source": [
    "**Question 2.1 (10 pts)** Reverse the words in a sentence. Implement a function `scramble_sentence` that takes a sentence as a string and returns a string where the words have been reversed. For example, `scramble_sentence(\"Hello World\")` should return `\"olleH dlroW\"`. Consider that strings are just like any other sequence such as lists and tuples and therefore can be accessed with the slice notation. Also you can use the method `slice` of string object to split a sentence into its individual words and `join` to put a list of strings inside another string. For example, `\" \".join([\"hello\", \"world\"])` will create `\"hello world\"`. You can use list comprehensions or for-loops to solve this problem."
   ]
  },
  {
   "cell_type": "markdown",
   "metadata": {
    "deletable": false,
    "editable": false,
    "nbgrader": {
     "checksum": "1a35c128ed11af9c167e186f22ae660c",
     "grade": false,
     "grade_id": "cell-185c7c256e4a6124",
     "locked": true,
     "schema_version": 1,
     "solution": false
    }
   },
   "source": [
    "Write your code below. Make sure to remove the exception"
   ]
  },
  {
   "cell_type": "code",
   "execution_count": 2,
   "metadata": {
    "deletable": false,
    "nbgrader": {
     "checksum": "085f5b48fbce649d8e6a5f12381f40ce",
     "grade": false,
     "grade_id": "cell-5eb87107d2800505",
     "locked": false,
     "schema_version": 1,
     "solution": true
    }
   },
   "outputs": [],
   "source": [
    "# Create the function scramble_sentence below\n",
    "def scramble_sentence(sentence):\n",
    "    words = sentence.split()\n",
    "    words\n",
    "    for i in range(len(words)):\n",
    "        words[i]= words[i][::-1]\n",
    "    scrambled = \" \".join(words)\n",
    "    return(scrambled)\n",
    "#raise NotImplementedError()"
   ]
  },
  {
   "cell_type": "markdown",
   "metadata": {},
   "source": [
    "The code below checks whether your code works properly"
   ]
  },
  {
   "cell_type": "code",
   "execution_count": 3,
   "metadata": {
    "deletable": false,
    "editable": false,
    "nbgrader": {
     "checksum": "da34aac4c035b267f3ff5816fd031fba",
     "grade": true,
     "grade_id": "cell-17c0ac01cace4b18",
     "locked": true,
     "points": 10,
     "schema_version": 1,
     "solution": false
    }
   },
   "outputs": [],
   "source": [
    "# 10 pts\n",
    "np.testing.assert_equal(scramble_sentence(\"Hello World\"), \"olleH dlroW\")\n",
    "np.testing.assert_equal(scramble_sentence(\"Data Science\"), \"ataD ecneicS\")"
   ]
  },
  {
   "cell_type": "markdown",
   "metadata": {},
   "source": [
    "**Question 2.2 (10 pts)** Basic statistic. Create a function `mean_max_mean_min` which receives a list of numbers and returns the average of the maximum, minium, and average of the list. For example, `mean_max_mean_min([1,2,3])` should return `2.0` because the maximum is 3, minimum is 1, and average is 2, and the average of 1, 2, and 3 is 2. Be careful with borderline cases such as `mean_max_mean_min([1])`, and `mean_max_mean_min([10, 10, 10])` **Don't assume that the list is a numpy array but rather a vanilla Python list.**"
   ]
  },
  {
   "cell_type": "markdown",
   "metadata": {
    "deletable": false,
    "editable": false,
    "nbgrader": {
     "checksum": "e9a61a3a22c1ef9d2add2d9cadd9b755",
     "grade": false,
     "grade_id": "cell-185c7c25s6e4a6124",
     "locked": true,
     "schema_version": 1,
     "solution": false
    }
   },
   "source": [
    "**Write your code below:**"
   ]
  },
  {
   "cell_type": "code",
   "execution_count": 4,
   "metadata": {
    "deletable": false,
    "nbgrader": {
     "checksum": "93c89a396ab6aa6ace9fe98663691b74",
     "grade": false,
     "grade_id": "cell-48471c8515aa4e5c",
     "locked": false,
     "schema_version": 1,
     "solution": true
    }
   },
   "outputs": [],
   "source": [
    "# create the function statistic here\n",
    "def mean_max_mean_min (df):\n",
    "    a = min(df)\n",
    "    b = max(df)\n",
    "    c = sum(df)/len(df)\n",
    "    mean = (a+b+c)/3\n",
    "    return(mean)\n",
    "#raise NotImplementedError()"
   ]
  },
  {
   "cell_type": "code",
   "execution_count": 5,
   "metadata": {
    "deletable": false,
    "editable": false,
    "nbgrader": {
     "checksum": "c878392521eb7ebee11031d5efd75ef1",
     "grade": true,
     "grade_id": "cell-fc6a0f4ea3e7d63d",
     "locked": true,
     "points": 10,
     "schema_version": 1,
     "solution": false
    }
   },
   "outputs": [],
   "source": [
    "# 10 pts\n",
    "np.testing.assert_equal(mean_max_mean_min([1,2,3,4,5,6,7,8,9,10,11,12,13]), 7.0)\n",
    "np.testing.assert_equal(mean_max_mean_min([1]), 1.0)\n",
    "np.testing.assert_equal(mean_max_mean_min([1,2,3]), 2.0)\n",
    "np.testing.assert_equal(mean_max_mean_min([1,10,100]), 46.0)"
   ]
  },
  {
   "cell_type": "markdown",
   "metadata": {},
   "source": [
    "## Matplotlib"
   ]
  },
  {
   "cell_type": "code",
   "execution_count": 6,
   "metadata": {},
   "outputs": [],
   "source": [
    "# import needed packages\n",
    "import matplotlib.pyplot as plt\n",
    "import numpy as np"
   ]
  },
  {
   "cell_type": "markdown",
   "metadata": {},
   "source": [
    "Use the following dataset"
   ]
  },
  {
   "cell_type": "code",
   "execution_count": 7,
   "metadata": {
    "deletable": false,
    "editable": false,
    "nbgrader": {
     "checksum": "26038ed7cca7b095fe97834ffb66af1b",
     "grade": false,
     "grade_id": "cell-1c87eb33fe07f1d7",
     "locked": true,
     "schema_version": 1,
     "solution": false
    }
   },
   "outputs": [],
   "source": [
    "# create the data\n",
    "group = np.array(['young', 'old', 'young', 'young', 'young', 'old', 'young', 'old', 'old', \n",
    "                  'young', 'young', 'old', 'young', 'young', 'old', 'old', 'old', 'old', 'old', \n",
    "                  'young', 'old', 'old', 'young', 'old', 'old', 'old', 'old', 'old', 'old', 'old', \n",
    "                  'young', 'young', 'young', 'old', 'young', 'old', 'old', 'old', 'young', 'young', \n",
    "                  'old', 'old', 'young', 'old', 'old', 'young', 'old', 'young', 'old', 'young', 'young', \n",
    "                  'young', 'old', 'young', 'old', 'old', 'young', 'young', 'old', 'old', 'young', 'old', \n",
    "                  'old', 'young', 'young', 'young', 'young', 'young', 'old', 'old', 'old', 'old', 'young', \n",
    "                  'old', 'old', 'young', 'old', 'old', 'old', 'old', 'old', 'old', 'young', 'young', \n",
    "                  'old', 'young', 'old', 'old', 'old', 'old', 'young', 'young', 'young', 'old',\n",
    "                  'old', 'young', 'old', 'old', 'young', 'young'])\n",
    "age = np.array([37.0, 41.0, 42.0, 41.0, 36.0, 46.0, 31.0, 43.0, 46.0, 36.0, 36.0, 43.0, 28.0, 35.0, \n",
    "                46.0, 51.0, 41.0, 51.0, 55.0, 38.0, 50.0, 52.0, 44.0, 43.0, 49.0, 52.0, 54.0, 42.0, \n",
    "                44.0, 51.0, 33.0, 38.0, 33.0, 47.0, 35.0, 47.0, 46.0, 40.0, 36.0, 35.0, 44.0, 44.0, \n",
    "                31.0, 51.0, 44.0, 34.0, 52.0, 36.0, 51.0, 38.0, 39.0, 29.0, 38.0, 42.0, 47.0, 44.0, \n",
    "                39.0, 24.0, 51.0, 41.0, 36.0, 41.0, 46.0, 28.0, 24.0, 32.0, 36.0, 36.0, 46.0, 55.0, \n",
    "                55.0, 38.0, 36.0, 47.0, 37.0, 29.0, 45.0, 44.0, 45.0, 44.0, 47.0, 44.0, 39.0, 35.0, \n",
    "                42.0, 35.0, 39.0, 47.0, 45.0, 41.0, 35.0, 41.0, 34.0, 41.0, 39.0, 34.0, 43.0, 42.0, \n",
    "                36.0, 32.0])\n",
    "income = np.array([38202.0, 44883.0, 42011.0, 35934.0, 35561.0, 42219.0, 35113.0, 42141.0, 41041.0, \n",
    "                   38442.0, 37445.0, 40634.0, 32318.0, 37991.0, 43268.0, 45893.0, 39100.0, 48929.0, \n",
    "                   47271.0, 36575.0, 44893.0, 49479.0, 37809.0, 41565.0, 43805.0, 43887.0, 49753.0, \n",
    "                   41668.0, 38260.0, 47663.0, 35522.0, 37105.0, 34757.0, 41890.0, 40052.0, 42313.0, \n",
    "                   40720.0, 37984.0, 40259.0, 33736.0, 45272.0, 42000.0, 31468.0, 51204.0, 40887.0, \n",
    "                   38974.0, 46151.0, 35729.0, 48820.0, 42052.0, 35463.0, 32899.0, 42328.0, 44504.0, \n",
    "                   45697.0, 42009.0, 41934.0, 31368.0, 47346.0, 39064.0, 35646.0, 41512.0, 46011.0, \n",
    "                   30096.0, 27235.0, 32728.0, 39859.0, 40774.0, 46112.0, 49337.0, 51348.0, 36289.0, \n",
    "                   40332.0, 47470.0, 36637.0, 31849.0, 40644.0, 44750.0, 47441.0, 40280.0, 44322.0, \n",
    "                   43532.0, 39243.0, 34646.0, 39483.0, 38488.0, 38063.0, 43645.0, 40608.0, 37451.0, \n",
    "                   33825.0, 38936.0, 36828.0, 40781.0, 40228.0, 34174.0, 38186.0, 41781.0, 31930.0, \n",
    "                   34096.0])"
   ]
  },
  {
   "cell_type": "markdown",
   "metadata": {},
   "source": [
    "**Question 2.3: (5 pts)** Below, plot the histogram of the income of the \"old\" population. Use the `group` variable to select from `income` the appropriate datapoints."
   ]
  },
  {
   "cell_type": "code",
   "execution_count": 8,
   "metadata": {
    "deletable": false,
    "nbgrader": {
     "checksum": "de914d5b824d3fbde54a41a1a3250d9d",
     "grade": true,
     "grade_id": "cell-7990846e56e9d7cc",
     "locked": false,
     "points": 5,
     "schema_version": 1,
     "solution": true
    },
    "scrolled": true
   },
   "outputs": [
    {
     "data": {
      "text/plain": [
       "(array([ 3.,  6.,  8., 11.,  6.,  6.,  5.,  5.,  5.,  2.]),\n",
       " array([36289. , 37794.9, 39300.8, 40806.7, 42312.6, 43818.5, 45324.4,\n",
       "        46830.3, 48336.2, 49842.1, 51348. ]),\n",
       " <BarContainer object of 10 artists>)"
      ]
     },
     "execution_count": 8,
     "metadata": {},
     "output_type": "execute_result"
    },
    {
     "data": {
      "image/png": "[encoded data removed]",
      "text/plain": [
       "<Figure size 432x288 with 1 Axes>"
      ]
     },
     "metadata": {
      "needs_background": "light"
     },
     "output_type": "display_data"
    }
   ],
   "source": [
    "# 5 pts\n",
    "plt.hist(income[(group == 'old')])\n",
    "#raise NotImplementedError()"
   ]
  },
  {
   "cell_type": "markdown",
   "metadata": {},
   "source": [
    "**Question 2.4:** (5 pts) Produce one scatter plot using `plt.scatter` to depic the relationship between `age` and `income`.  However, put the scatter plot of the 'young' group in green and the 'old' group in 'blue'. **The plot must have a legend describing the groups, a title describing the relationship plotted, and labels for both axes.**"
   ]
  },
  {
   "cell_type": "code",
   "execution_count": 9,
   "metadata": {
    "deletable": false,
    "nbgrader": {
     "checksum": "a7454070b7c395fce97347a5fa756bcd",
     "grade": true,
     "grade_id": "cell-29505be5567d1727",
     "locked": false,
     "points": 5,
     "schema_version": 1,
     "solution": true
    }
   },
   "outputs": [
    {
     "data": {
      "text/plain": [
       "Text(0.5, 1.0, 'Income vs Age(By age-group)')"
      ]
     },
     "execution_count": 9,
     "metadata": {},
     "output_type": "execute_result"
    },
    {
     "data": {
      "image/png": "[encoded data removed]",
      "text/plain": [
       "<Figure size 432x288 with 1 Axes>"
      ]
     },
     "metadata": {
      "needs_background": "light"
     },
     "output_type": "display_data"
    }
   ],
   "source": [
    "# 5 pts\n",
    "\n",
    "plt.scatter(age[(group=='old')],income[(group=='old')],color='blue')\n",
    "plt.scatter(age[(group=='young')],income[(group=='young')],color='green')\n",
    "plt.legend([\"old\", \"young\"])\n",
    "plt.xlabel(\"age\")\n",
    "plt.ylabel(\"income\")\n",
    "plt.title(\"Income vs Age(By age-group)\")\n",
    "#raise NotImplementedError()"
   ]
  },
  {
   "cell_type": "markdown",
   "metadata": {},
   "source": [
    "# Pandas"
   ]
  },
  {
   "cell_type": "markdown",
   "metadata": {},
   "source": [
    "using a modified dataset from above"
   ]
  },
  {
   "cell_type": "code",
   "execution_count": 10,
   "metadata": {
    "deletable": false,
    "editable": false,
    "nbgrader": {
     "checksum": "0648e1717248b48efd305a61ac812a0e",
     "grade": false,
     "grade_id": "cell-2a2532b031d71c66",
     "locked": true,
     "schema_version": 1,
     "solution": false
    }
   },
   "outputs": [],
   "source": [
    "# import needed packages\n",
    "import matplotlib.pyplot as plt\n",
    "import numpy as np\n",
    "import pandas as pd\n",
    "\n",
    "# create the data\n",
    "group2 = np.array(['young', 'old', 'young', 'young', 'young', 'old', 'young', 'old', 'old', 'young', \n",
    "                   'young', 'old', 'young', 'young', 'old', 'old', 'old', 'old', 'old', 'young', 'old', \n",
    "                   'old', 'young', 'old', 'old', 'old', 'old', 'old', 'old', 'old', 'young', 'young',\n",
    "                   'young', 'old', 'young', 'old', 'old', 'old', 'young', 'young', 'old', 'old', 'young', \n",
    "                   'old', 'old', 'young', 'old', 'young', 'old', 'young', 'young', 'young', 'old', 'young',\n",
    "                   'old', 'old', 'young', 'young', 'old', 'old', 'young', 'old', 'old', 'young', 'young',\n",
    "                   'young', 'young', 'young', 'old', 'old', 'old', 'old', 'young', 'old', 'old', 'young', \n",
    "                   'old', 'old', 'old', 'old', 'old', 'old', 'young', 'young', 'old', 'young', 'old', 'old',\n",
    "                   'old', 'old', 'young', 'young', 'young', 'old', 'old', 'young', 'old', 'old', 'young', 'young'])\n",
    "age2 = np.array([37.0, 41.0, 42.0, 41.0, 36.0, 46.0, 31.0, 43.0, 46.0, 36.0, 36.0, None, 28.0, 35.0, \n",
    "                 46.0, 51.0, 41.0, 51.0, 55.0, 38.0, 50.0, 52.0, 44.0, 43.0, 49.0, 52.0, 54.0, 42.0, \n",
    "                 44.0, 51.0, 33.0, 38.0, 33.0, 47.0, 35.0, 47.0, 46.0, 40.0, 36.0, 35.0, 44.0, 44.0, \n",
    "                 None, 51.0, 44.0, 34.0, 52.0, 36.0, 51.0, 38.0, 39.0, 29.0, 38.0, 42.0, 47.0, None, \n",
    "                 39.0, 24.0, 51.0, 41.0, 36.0, 41.0, 46.0, 28.0, 24.0, 32.0, 36.0, 36.0, 46.0, 55.0, \n",
    "                 55.0, 38.0, 36.0, 47.0, 37.0, 29.0, 45.0, 44.0, 45.0, 44.0, 47.0, 44.0, 39.0, 35.0, \n",
    "                 42.0, 35.0, 39.0, 47.0, 45.0, 41.0, 35.0, 41.0, 34.0, 41.0, 39.0, 34.0, 43.0, 42.0, \n",
    "                 36.0, 32.0], float)\n",
    "income2 = np.array([38202.0, 44883.0, 42011.0, 35934.0, 35561.0, 42219.0, 35113.0, 42141.0, 41041.0, \n",
    "                    38442.0, 37445.0, 40634.0, 32318.0, 37991.0, 43268.0, 45893.0, 39100.0, 48929.0, \n",
    "                    47271.0, 36575.0, 44893.0, 49479.0, 37809.0, 41565.0, 43805.0, 43887.0, 49753.0, \n",
    "                    41668.0, 38260.0, 47663.0, 35522.0, 37105.0, 34757.0, 41890.0, 40052.0, 42313.0,\n",
    "                    40720.0, 37984.0, 40259.0, None, 45272.0, 42000.0, 31468.0, 51204.0, 40887.0, \n",
    "                    38974.0, 46151.0, 35729.0, 48820.0, 42052.0, 35463.0, 32899.0, 42328.0, 44504.0, \n",
    "                    45697.0, 42009.0, 41934.0, 31368.0, 47346.0, 39064.0, 35646.0, 41512.0, 46011.0, \n",
    "                    30096.0, 27235.0, 32728.0, 39859.0, 40774.0, 46112.0, 49337.0, 51348.0, 36289.0,\n",
    "                    None, 47470.0, 36637.0, 31849.0, 40644.0, 44750.0, 47441.0, 40280.0, 44322.0, \n",
    "                    43532.0, 39243.0, 34646.0, 39483.0, 38488.0, 38063.0, 43645.0, 40608.0, 37451.0,\n",
    "                    33825.0, 38936.0, 36828.0, 40781.0, 40228.0, 34174.0, 38186.0, 41781.0, None, 34096.0], float)"
   ]
  },
  {
   "cell_type": "markdown",
   "metadata": {},
   "source": [
    "**Question 2.5:** (5 pts): Create a dataframe `df` that contains three columns with names `group`, `age`, and `income`, respectively, based on the variables `group2`, `age2`, and `income2` created in the cell above. Use the Pandas DataFrame functionality to compute the mean age and income of each group assign them to `avg_age` and `avg_income`"
   ]
  },
  {
   "cell_type": "code",
   "execution_count": 11,
   "metadata": {
    "deletable": false,
    "nbgrader": {
     "checksum": "fd5aaf025b5eabba335c90765131832e",
     "grade": false,
     "grade_id": "cell-aa8ea4eae878a704",
     "locked": false,
     "schema_version": 1,
     "solution": true
    }
   },
   "outputs": [],
   "source": [
    "# Create the variables df, avg_age, and avg_income below\n",
    "import pandas as pd\n",
    "list_cols = [group2, age2, income2] \n",
    "list_cols = np.transpose(list_cols)\n",
    "df = pd.DataFrame(data=list_cols, columns = ['group','age', 'income'])\n",
    "\n",
    "df['age'] = df['age'].astype(float)\n",
    "df['income'] = df['income'].astype(float)\n",
    "#df.groupby(['group']).mean()\n",
    "avg_age = df['age'].mean()\n",
    "avg_income = df['income'].mean()\n",
    "#raise NotImplementedError()"
   ]
  },
  {
   "cell_type": "code",
   "execution_count": 12,
   "metadata": {
    "deletable": false,
    "editable": false,
    "nbgrader": {
     "checksum": "6196399fac9a92335499f34983d49da2",
     "grade": true,
     "grade_id": "cell-3754ac35fe34111a",
     "locked": true,
     "points": 5,
     "schema_version": 1,
     "solution": false
    }
   },
   "outputs": [],
   "source": [
    "# 5 pts\n",
    "np.testing.assert_equal(set(df.columns), {'age', 'group', 'income'})\n",
    "np.testing.assert_approx_equal(avg_age, 41.09, significant=1)\n",
    "np.testing.assert_approx_equal(avg_income, 40452.14, significant=1)"
   ]
  },
  {
   "cell_type": "markdown",
   "metadata": {},
   "source": [
    "**Question 2.6:** (5 pts) Standardize features. Standardized the age and income in the dataframe from Question 5.1. Standardization is the process of subtracting the mean of a feature and dividing the result by the standard deviation of the feature. Use the `apply` method of a dataframe to apply a function to the age and income series to achieve this result. Remember that `apply` will apply the function to all series so it will not work with the `group` series because it contains strings. Therefore, you must select the appropriate columns first. Create a variable `df2` with the resulting dataframe."
   ]
  },
  {
   "cell_type": "code",
   "execution_count": 13,
   "metadata": {
    "deletable": false,
    "nbgrader": {
     "checksum": "5566b83171846e605cf20008ef8a7627",
     "grade": false,
     "grade_id": "cell-8051461f466d9ac5",
     "locked": false,
     "schema_version": 1,
     "solution": true
    },
    "scrolled": true
   },
   "outputs": [],
   "source": [
    "# create the dataframe df2 here\n",
    "\n",
    "standardized_age =df['age'].apply(lambda x :( x - df['age'].mean())/df['age'].std())\n",
    "standardized_income =df['income'].apply(lambda x :( x - df['income'].mean())/df['income'].std())\n",
    "df2 = pd.DataFrame({'age': standardized_age, 'group': group, 'income': standardized_income})\n",
    "#raise NotImplementedError()"
   ]
  },
  {
   "cell_type": "code",
   "execution_count": 14,
   "metadata": {
    "deletable": false,
    "editable": false,
    "nbgrader": {
     "checksum": "ebafa800150667d4fb45685829c17045",
     "grade": true,
     "grade_id": "cell-4571ce3b6a33685a",
     "locked": true,
     "points": 5,
     "schema_version": 1,
     "solution": false
    }
   },
   "outputs": [],
   "source": [
    "# 5 points\n",
    "np.testing.assert_equal(set(df2.columns), {'age', 'group', 'income'})\n",
    "np.testing.assert_almost_equal(df2['age'].mean(), 0)\n",
    "np.testing.assert_almost_equal(df2['age'].std(), 1, decimal=1)\n",
    "np.testing.assert_almost_equal(df2['income'].mean(), 0)\n",
    "np.testing.assert_almost_equal(df2['income'].std(), 1, decimal=1)\n",
    "np.testing.assert_array_equal(df['group'], df2['group'])"
   ]
  }
 ],
 "metadata": {
  "kernelspec": {
   "display_name": "Python 3",
   "language": "python",
   "name": "python3"
  },
  "language_info": {
   "codemirror_mode": {
    "name": "ipython",
    "version": 3
   },
   "file_extension": ".py",
   "mimetype": "text/x-python",
   "name": "python",
   "nbconvert_exporter": "python",
   "pygments_lexer": "ipython3",
   "version": "3.8.6"
  },
  "name": "lab1-no-key",
  "notebookId": 3197279189044075
 },
 "nbformat": 4,
 "nbformat_minor": 1
}
