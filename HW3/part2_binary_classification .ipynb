{
 "cells": [
  {
   "cell_type": "markdown",
   "metadata": {},
   "source": [
    "# IST 718: Big Data Analytics\n",
    "\n",
    "- Professor: Daniel Acuna <deacuna@syr.edu>\n",
    "\n",
    "## General instructions:\n",
    "\n",
    "- You are welcome to discuss the problems with your classmates but __you are not allowed to copy any part of your answers either from your classmates or from the internet__\n",
    "- You can put the homework files anywhere you want in your http://notebook.acuna.io workspace but _do not change_ the file names. The TAs and the professor use these names to grade your homework.\n",
    "- Remove or comment out code that contains `raise NotImplementedError`. This is mainly to make the `assert` statement fail if nothing is submitted.\n",
    "- The tests shown in some cells (i.e., `assert` and `np.testing.` statements) are used to grade your answers. **However, the professor and TAs will use __additional__ test for your answer. Think about cases where your code should run even if it passess all the tests you see.**\n",
    "- Before downloading and submitting your work through Blackboard, remember to save and press `Validate` (or go to \n",
    "`Kernel`$\\rightarrow$`Restart and Run All`). \n",
    "- Good luck!"
   ]
  },
  {
   "cell_type": "code",
   "execution_count": 27,
   "metadata": {},
   "outputs": [],
   "source": [
    "# Load the packages needed for this part\n",
    "# create spark and sparkcontext objects\n",
    "from pyspark.sql import SparkSession\n",
    "import numpy as np\n",
    "\n",
    "spark = SparkSession.builder.getOrCreate()\n",
    "sc = spark.sparkContext\n",
    "\n",
    "import pyspark\n",
    "from pyspark.ml import feature, regression, Pipeline, classification, pipeline, evaluation\n",
    "from pyspark.sql import functions as fn, Row\n",
    "from pyspark import sql\n",
    "\n",
    "import matplotlib.pyplot as plt\n",
    "import pandas as pd"
   ]
  },
  {
   "cell_type": "markdown",
   "metadata": {},
   "source": [
    "# Part 2"
   ]
  },
  {
   "cell_type": "markdown",
   "metadata": {},
   "source": [
    "In this section, you are going to develop a SMS spam detector based on logistic regression. This is the same idea behind sentiment analysis, but instead of predicting positive sentiment vs negative sentiment, you are going to predict whether a SMS text is spam or not.\n",
    "\n",
    "The dataset will be in `sms_spam_df`"
   ]
  },
  {
   "cell_type": "code",
   "execution_count": 28,
   "metadata": {},
   "outputs": [
    {
     "data": {
      "text/plain": [
       "[Row(type='ham', text='Go until jurong point, crazy.. Available only in bugis n great world la e buffet... Cine there got amore wat...'),\n",
       " Row(type='ham', text='Ok lar... Joking wif u oni...'),\n",
       " Row(type='spam', text=\"Free entry in 2 a wkly comp to win FA Cup final tkts 21st May 2005. Text FA to 87121 to receive entry question(std txt rate)T&C's apply 08452810075over18's\"),\n",
       " Row(type='ham', text='U dun say so early hor... U c already then say...'),\n",
       " Row(type='ham', text=\"Nah I don't think he goes to usf, he lives around here though\"),\n",
       " Row(type='spam', text=\"FreeMsg Hey there darling it's been 3 week's now and no word back! I'd like some fun you up for it still? Tb ok! XxX std chgs to send, £1.50 to rcv\"),\n",
       " Row(type='ham', text='Even my brother is not like to speak with me. They treat me like aids patent.'),\n",
       " Row(type='ham', text=\"As per your request 'Melle Melle (Oru Minnaminunginte Nurungu Vettam)' has been set as your callertune for all Callers. Press *9 to copy your friends Callertune\"),\n",
       " Row(type='spam', text='WINNER!! As a valued network customer you have been selected to receivea £900 prize reward! To claim call 09061701461. Claim code KL341. Valid 12 hours only.'),\n",
       " Row(type='spam', text='Had your mobile 11 months or more? U R entitled to Update to the latest colour mobiles with camera for Free! Call The Mobile Update Co FREE on 08002986030')]"
      ]
     },
     "execution_count": 28,
     "metadata": {},
     "output_type": "execute_result"
    }
   ],
   "source": [
    "sms_spam_df = spark.read.csv('sms_spam.csv', header=True, inferSchema=True)\n",
    "sms_spam_df.take(10)"
   ]
  },
  {
   "cell_type": "markdown",
   "metadata": {},
   "source": [
    "# Question 2.1\n",
    "\n",
    "Encode the `type` column to be 1 for `spam` and 0 for `ham` and store the result in `sms_spam2_df`"
   ]
  },
  {
   "cell_type": "code",
   "execution_count": 29,
   "metadata": {
    "deletable": false,
    "nbgrader": {
     "checksum": "ede01a8c8ef80d25d4fa8d9132b6f9c0",
     "grade": false,
     "grade_id": "cell-79e2472845514523",
     "locked": false,
     "schema_version": 1,
     "solution": true
    }
   },
   "outputs": [],
   "source": [
    "# create sms_spam2_df below\n",
    "sms_spam2_df = sms_spam_df.select(fn.when(fn.col('type')=='spam',1).otherwise(0).alias('type'),('text'))\n",
    "#raise NotImplementedError()"
   ]
  },
  {
   "cell_type": "code",
   "execution_count": 30,
   "metadata": {},
   "outputs": [
    {
     "name": "stdout",
     "output_type": "stream",
     "text": [
      "+----+--------------------+\n",
      "|type|                text|\n",
      "+----+--------------------+\n",
      "|   0|Go until jurong p...|\n",
      "|   0|Ok lar... Joking ...|\n",
      "|   1|Free entry in 2 a...|\n",
      "|   0|U dun say so earl...|\n",
      "|   0|Nah I don't think...|\n",
      "|   1|FreeMsg Hey there...|\n",
      "|   0|Even my brother i...|\n",
      "|   0|As per your reque...|\n",
      "|   1|WINNER!! As a val...|\n",
      "|   1|Had your mobile 1...|\n",
      "|   0|I'm gonna be home...|\n",
      "|   1|SIX chances to wi...|\n",
      "|   1|URGENT! You have ...|\n",
      "|   0|I've been searchi...|\n",
      "|   0|I HAVE A DATE ON ...|\n",
      "|   1|XXXMobileMovieClu...|\n",
      "|   0|Oh k...i'm watchi...|\n",
      "|   0|Eh u remember how...|\n",
      "|   0|Fine if that's th...|\n",
      "|   1|England v Macedon...|\n",
      "+----+--------------------+\n",
      "only showing top 20 rows\n",
      "\n"
     ]
    }
   ],
   "source": [
    "# check here\n",
    "sms_spam2_df.show()"
   ]
  },
  {
   "cell_type": "code",
   "execution_count": 31,
   "metadata": {
    "deletable": false,
    "editable": false,
    "nbgrader": {
     "checksum": "3c39d9b0191d5b096f133b45d5f38f67",
     "grade": true,
     "grade_id": "cell-c6048eb3c38d3030",
     "locked": true,
     "points": 5,
     "schema_version": 1,
     "solution": false
    }
   },
   "outputs": [],
   "source": [
    "# (5 pts)\n",
    "np.testing.assert_array_equal(\n",
    "    sms_spam2_df.groupBy('type').count().orderBy('type').rdd.map(lambda x: x['count']).collect(),\n",
    "    [4827, 747]\n",
    ")"
   ]
  },
  {
   "cell_type": "markdown",
   "metadata": {},
   "source": [
    "# Question 2.2: tfidf feature engineering\n",
    "Create a pipeline that combines a `Tokenizer`, `CounterVectorizer`, and a `IDF` estimator to compute the tfidf vectors of each SMS. Fit this pipeline and assign the pipeline transformer to a variable `tfidf_pipeline`. The `Tokenizer` step should create a column `words`, the `CounterVectorizer` step should create a column `tf`, and the `IDF` step should create a column `tfidf`."
   ]
  },
  {
   "cell_type": "code",
   "execution_count": 32,
   "metadata": {
    "deletable": false,
    "nbgrader": {
     "checksum": "521084e2063144fa97a14bef1e965fca",
     "grade": false,
     "grade_id": "cell-ab24110e63d19470",
     "locked": false,
     "schema_version": 1,
     "solution": true
    }
   },
   "outputs": [
    {
     "data": {
      "text/plain": [
       "DataFrame[type: int, text: string, words: array<string>, tf: vector, tfidf: vector]"
      ]
     },
     "execution_count": 32,
     "metadata": {},
     "output_type": "execute_result"
    }
   ],
   "source": [
    "# create a Pipeline transformer and name it \n",
    "from pyspark.ml.feature import Tokenizer\n",
    "from pyspark.ml.feature import CountVectorizer\n",
    "from pyspark.ml.feature import IDF\n",
    "tokenizer = Tokenizer().setInputCol('text').setOutputCol('words')\n",
    "count_vectorizer_estimator = CountVectorizer().setInputCol('words').setOutputCol('tf')\n",
    "idf = IDF().setInputCol('tf').setOutputCol('tfidf')\n",
    "tfidf_pipeline = Pipeline(stages=[tokenizer, count_vectorizer_estimator,idf]).fit(sms_spam2_df)\n",
    "tfidf_pipeline.transform(sms_spam2_df)\n",
    "#raise NotImplementedError()"
   ]
  },
  {
   "cell_type": "code",
   "execution_count": 33,
   "metadata": {},
   "outputs": [
    {
     "name": "stdout",
     "output_type": "stream",
     "text": [
      "+----+--------------------+--------------------+--------------------+--------------------+\n",
      "|type|                text|               words|                  tf|               tfidf|\n",
      "+----+--------------------+--------------------+--------------------+--------------------+\n",
      "|   0|Go until jurong p...|[go, until, juron...|(13525,[8,42,51,6...|(13525,[8,42,51,6...|\n",
      "|   0|Ok lar... Joking ...|[ok, lar..., joki...|(13525,[5,74,404,...|(13525,[5,74,404,...|\n",
      "|   1|Free entry in 2 a...|[free, entry, in,...|(13525,[0,3,8,20,...|(13525,[0,3,8,20,...|\n",
      "|   0|U dun say so earl...|[u, dun, say, so,...|(13525,[5,22,60,1...|(13525,[5,22,60,1...|\n",
      "|   0|Nah I don't think...|[nah, i, don't, t...|(13525,[0,1,66,86...|(13525,[0,1,66,86...|\n",
      "|   1|FreeMsg Hey there...|[freemsg, hey, th...|(13525,[0,2,6,10,...|(13525,[0,2,6,10,...|\n",
      "|   0|Even my brother i...|[even, my, brothe...|(13525,[0,7,9,13,...|(13525,[0,7,9,13,...|\n",
      "|   0|As per your reque...|[as, per, your, r...|(13525,[0,10,11,4...|(13525,[0,10,11,4...|\n",
      "|   1|WINNER!! As a val...|[winner!!, as, a,...|(13525,[0,2,3,14,...|(13525,[0,2,3,14,...|\n",
      "|   1|Had your mobile 1...|[had, your, mobil...|(13525,[0,4,5,10,...|(13525,[0,4,5,10,...|\n",
      "|   0|I'm gonna be home...|[i'm, gonna, be, ...|(13525,[0,1,6,29,...|(13525,[0,1,6,29,...|\n",
      "|   1|SIX chances to wi...|[six, chances, to...|(13525,[0,6,40,48...|(13525,[0,6,40,48...|\n",
      "|   1|URGENT! You have ...|[urgent!, you, ha...|(13525,[0,2,3,4,8...|(13525,[0,2,3,4,8...|\n",
      "|   0|I've been searchi...|[i've, been, sear...|(13525,[0,1,2,3,4...|(13525,[0,1,2,3,4...|\n",
      "|   0|I HAVE A DATE ON ...|[i, have, a, date...|(13525,[1,3,14,16...|(13525,[1,3,14,16...|\n",
      "|   1|XXXMobileMovieClu...|[xxxmobilemoviecl...|(13525,[0,4,8,11,...|(13525,[0,4,8,11,...|\n",
      "|   0|Oh k...i'm watchi...|[oh, k...i'm, wat...|(13525,[159,314,4...|(13525,[159,314,4...|\n",
      "|   0|Eh u remember how...|[eh, u, remember,...|(13525,[1,5,20,46...|(13525,[1,5,20,46...|\n",
      "|   0|Fine if that's th...|[fine, if, that's...|(13525,[4,5,30,59...|(13525,[4,5,30,59...|\n",
      "|   1|England v Macedon...|[england, v, mace...|(13525,[0,4,28,81...|(13525,[0,4,28,81...|\n",
      "+----+--------------------+--------------------+--------------------+--------------------+\n",
      "only showing top 20 rows\n",
      "\n"
     ]
    }
   ],
   "source": [
    "tfidf_pipeline.transform(sms_spam2_df).show()"
   ]
  },
  {
   "cell_type": "code",
   "execution_count": 34,
   "metadata": {
    "deletable": false,
    "editable": false,
    "nbgrader": {
     "checksum": "34ef778045b84441f525a78f9db3eb70",
     "grade": true,
     "grade_id": "cell-cd280a1ccf0f1705",
     "locked": true,
     "points": 5,
     "schema_version": 1,
     "solution": false
    }
   },
   "outputs": [],
   "source": [
    "# (5 pts)\n",
    "np.testing.assert_array_equal([type(s) for s in tfidf_pipeline.stages],\n",
    "                              [feature.Tokenizer, feature.CountVectorizerModel, feature.IDFModel])"
   ]
  },
  {
   "cell_type": "markdown",
   "metadata": {},
   "source": [
    "# Question 2.3: uppercase feature\n",
    "\n",
    "Typical spam messages contain words that are upper case. Create a dataframe `sms_spam3_df` where you add a new column `has_uppercase` which contains an integer `1` if the first sequence of uppercase letters is longer or equal to 3 and an integer `0` otherwise. You can extract sequence of 3 or more uppercase letters by using the regular expression `[A-Z]{3,}`. You will use the function `fn.regexp_extract` to find those sequences and extract the first one (e.g., with index 0) and then use `fn.length` to compute the length of such sequence."
   ]
  },
  {
   "cell_type": "code",
   "execution_count": 35,
   "metadata": {
    "deletable": false,
    "nbgrader": {
     "checksum": "4a654d9e0b5d08d00aaaaa4cb3e04e30",
     "grade": false,
     "grade_id": "cell-02520df239057529",
     "locked": false,
     "schema_version": 1,
     "solution": true
    }
   },
   "outputs": [
    {
     "name": "stdout",
     "output_type": "stream",
     "text": [
      "+-------------+----+--------------------+\n",
      "|has_uppercase|type|                text|\n",
      "+-------------+----+--------------------+\n",
      "|            0|   0|Go until jurong p...|\n",
      "|            0|   0|Ok lar... Joking ...|\n",
      "|            0|   1|Free entry in 2 a...|\n",
      "|            0|   0|U dun say so earl...|\n",
      "|            0|   0|Nah I don't think...|\n",
      "|            0|   1|FreeMsg Hey there...|\n",
      "|            0|   0|Even my brother i...|\n",
      "|            0|   0|As per your reque...|\n",
      "|            1|   1|WINNER!! As a val...|\n",
      "|            1|   1|Had your mobile 1...|\n",
      "|            0|   0|I'm gonna be home...|\n",
      "|            1|   1|SIX chances to wi...|\n",
      "|            1|   1|URGENT! You have ...|\n",
      "|            0|   0|I've been searchi...|\n",
      "|            1|   0|I HAVE A DATE ON ...|\n",
      "|            1|   1|XXXMobileMovieClu...|\n",
      "|            0|   0|Oh k...i'm watchi...|\n",
      "|            0|   0|Eh u remember how...|\n",
      "|            0|   0|Fine if that's th...|\n",
      "|            1|   1|England v Macedon...|\n",
      "+-------------+----+--------------------+\n",
      "only showing top 20 rows\n",
      "\n"
     ]
    }
   ],
   "source": [
    "# create sms_spam3_df below\n",
    "#sms_spam2_df.select('*', fn.length())\n",
    "sms_spam3_df = sms_spam2_df.select(fn.when(fn.length(fn.regexp_extract(fn.col('text'),'[A-Z]{3,}',0))>2,1).otherwise(0).alias('has_uppercase'), ('type'),('text'))\n",
    "sms_spam3_df.show()\n",
    "#raise NotImplementedError()"
   ]
  },
  {
   "cell_type": "markdown",
   "metadata": {},
   "source": [
    "The first three messages with `has_uppercase == 1` are as follows:\n",
    "\n",
    "```python\n",
    "sms_spam3_df.where('has_uppercase == 1').take(3)\n",
    "```\n",
    "\n",
    "```console\n",
    "[Row(type=1, text='WINNER!! As a valued network customer you have been selected to receivea £900 prize reward! To claim call 09061701461. Claim code KL341. Valid 12 hours only.', has_uppercase=1),\n",
    " Row(type=1, text='Had your mobile 11 months or more? U R entitled to Update to the latest colour mobiles with camera for Free! Call The Mobile Update Co FREE on 08002986030', has_uppercase=1),\n",
    " Row(type=1, text='SIX chances to win CASH! From 100 to 20,000 pounds txt> CSH11 and send to 87575. Cost 150p/day, 6days, 16+ TsandCs apply Reply HL 4 info', has_uppercase=1)]\n",
    "```"
   ]
  },
  {
   "cell_type": "code",
   "execution_count": 36,
   "metadata": {},
   "outputs": [
    {
     "data": {
      "text/plain": [
       "[Row(has_uppercase=1, type=1, text='WINNER!! As a valued network customer you have been selected to receivea £900 prize reward! To claim call 09061701461. Claim code KL341. Valid 12 hours only.'),\n",
       " Row(has_uppercase=1, type=1, text='Had your mobile 11 months or more? U R entitled to Update to the latest colour mobiles with camera for Free! Call The Mobile Update Co FREE on 08002986030'),\n",
       " Row(has_uppercase=1, type=1, text='SIX chances to win CASH! From 100 to 20,000 pounds txt> CSH11 and send to 87575. Cost 150p/day, 6days, 16+ TsandCs apply Reply HL 4 info')]"
      ]
     },
     "execution_count": 36,
     "metadata": {},
     "output_type": "execute_result"
    }
   ],
   "source": [
    "# try it here\n",
    "sms_spam3_df.where('has_uppercase == 1').take(3)"
   ]
  },
  {
   "cell_type": "code",
   "execution_count": 37,
   "metadata": {
    "deletable": false,
    "editable": false,
    "nbgrader": {
     "checksum": "e380d6f60200785939c9acae7e614bef",
     "grade": true,
     "grade_id": "cell-905724115443b1ad",
     "locked": true,
     "points": 5,
     "schema_version": 1,
     "solution": false
    }
   },
   "outputs": [],
   "source": [
    "# (5 pts)\n",
    "np.testing.assert_equal(set(sms_spam3_df.columns), {'has_uppercase', 'text', 'type'})\n",
    "np.testing.assert_equal(type(sms_spam3_df.schema['has_uppercase'].dataType), sql.types.IntegerType)\n",
    "np.testing.assert_equal(sms_spam3_df.rdd.map(lambda x : x['has_uppercase']).sum(), 891)"
   ]
  },
  {
   "cell_type": "markdown",
   "metadata": {},
   "source": [
    "# Question 2.4: Compare models\n",
    "\n",
    "Using the following splits:"
   ]
  },
  {
   "cell_type": "code",
   "execution_count": 12,
   "metadata": {
    "deletable": false,
    "editable": false,
    "nbgrader": {
     "checksum": "8293adada027540531a2727eff204198",
     "grade": false,
     "grade_id": "cell-2f05175cd6ae7f5c",
     "locked": true,
     "schema_version": 1,
     "solution": false
    }
   },
   "outputs": [],
   "source": [
    "training_df, validation_df, testing_df = sms_spam2_df.randomSplit([0.6, 0.3, 0.1], seed=0)"
   ]
  },
  {
   "cell_type": "code",
   "execution_count": 39,
   "metadata": {},
   "outputs": [
    {
     "data": {
      "text/plain": [
       "[3311, 1709, 554]"
      ]
     },
     "execution_count": 39,
     "metadata": {},
     "output_type": "execute_result"
    }
   ],
   "source": [
    "[training_df.count(), validation_df.count(), testing_df.count()]"
   ]
  },
  {
   "cell_type": "markdown",
   "metadata": {},
   "source": [
    "**(5 pts)** Create pipelines where the first stage is the `tfidf_pipeline` created above and the second stage is a `LogisticRegression` model with different regularization parameters ($\\lambda$) and elastic net mixture ($\\alpha$). Fit those pipelines to the appropriate data split.\n",
    "\n",
    "1. Logistic regression with $\\lambda=0$ and $\\alpha=0$ (assign the fitted pipeline to `lr_pipeline1`)\n",
    "2. Logistic regression with $\\lambda=0.02$ and $\\alpha=0.2$ (assign the fitted pipeline to `lr_pipeline2`)\n",
    "3. Logistic regression with $\\lambda=0.1$ and $\\alpha=0.4$ (assign the fitted pipeline to `lr_pipeline3`)"
   ]
  },
  {
   "cell_type": "code",
   "execution_count": 14,
   "metadata": {
    "deletable": false,
    "nbgrader": {
     "checksum": "02b7fefd0dd482900ba644d56b02400a",
     "grade": false,
     "grade_id": "cell-8db1a50673eea1a7",
     "locked": false,
     "schema_version": 1,
     "solution": true
    }
   },
   "outputs": [],
   "source": [
    "# create lr_pipeline1, lr_pipeline2, and lr_pipeline3\n",
    "from pyspark.ml.classification import LogisticRegression\n",
    "lambda_par = 0.0\n",
    "alpha_par = 0.0\n",
    "en_lr1 = LogisticRegression().\\\n",
    "        setLabelCol('type').\\\n",
    "        setFeaturesCol('tfidf').\\\n",
    "        setRegParam(lambda_par).\\\n",
    "        setMaxIter(100).\\\n",
    "        setElasticNetParam(alpha_par)\n",
    "lr_pipeline1 = Pipeline(stages=[tfidf_pipeline, en_lr1]).fit(training_df)\n",
    "\n",
    "lambda_par = 0.02\n",
    "alpha_par = 0.2\n",
    "en_lr2 = LogisticRegression().\\\n",
    "        setLabelCol('type').\\\n",
    "        setFeaturesCol('tfidf').\\\n",
    "        setRegParam(lambda_par).\\\n",
    "        setMaxIter(100).\\\n",
    "        setElasticNetParam(alpha_par)\n",
    "lr_pipeline2 = Pipeline(stages=[tfidf_pipeline, en_lr2]).fit(training_df)\n",
    "\n",
    "lambda_par = 0.1\n",
    "alpha_par = 0.4\n",
    "en_lr3 = LogisticRegression().\\\n",
    "        setLabelCol('type').\\\n",
    "        setFeaturesCol('tfidf').\\\n",
    "        setRegParam(lambda_par).\\\n",
    "        setMaxIter(100).\\\n",
    "        setElasticNetParam(alpha_par)\n",
    "lr_pipeline3 = Pipeline(stages=[tfidf_pipeline, en_lr3]).fit(training_df)\n",
    "#raise NotImplementedError()"
   ]
  },
  {
   "cell_type": "code",
   "execution_count": 15,
   "metadata": {
    "deletable": false,
    "editable": false,
    "nbgrader": {
     "checksum": "bd388632281a19de36557ec7a00af21d",
     "grade": true,
     "grade_id": "cell-bc59c22c523a9016",
     "locked": true,
     "points": 10,
     "schema_version": 1,
     "solution": false
    }
   },
   "outputs": [],
   "source": [
    "# (10 pts)\n",
    "np.testing.assert_equal(type(lr_pipeline1), pipeline.PipelineModel)\n",
    "np.testing.assert_equal(type(lr_pipeline2), pipeline.PipelineModel)\n",
    "np.testing.assert_equal(type(lr_pipeline3), pipeline.PipelineModel)\n",
    "np.testing.assert_array_equal([type(s) for s in lr_pipeline1.stages],\n",
    "                              [pipeline.PipelineModel, classification.LogisticRegressionModel])\n",
    "np.testing.assert_array_equal([type(s) for s in lr_pipeline2.stages],\n",
    "                              [pipeline.PipelineModel, classification.LogisticRegressionModel])\n",
    "np.testing.assert_array_equal([type(s) for s in lr_pipeline3.stages],\n",
    "                              [pipeline.PipelineModel, classification.LogisticRegressionModel])"
   ]
  },
  {
   "cell_type": "markdown",
   "metadata": {},
   "source": [
    "**(5 pts)** Use the evaluator object defined below to compute the area under the curve of your predictors. For example, to compute the area under the curve of pipeline 1 for a dataframe `df`, you would run\n",
    "\n",
    "```python\n",
    "evaluator.evaluate(lr_pipeline1.transform(df))\n",
    "```\n",
    "\n",
    "Assign the AUC of the three models to the variables `AUC1`, `AUC2`, and `AUC3`, and and assign the pipeline with the best model to a variable `best_model`"
   ]
  },
  {
   "cell_type": "code",
   "execution_count": 16,
   "metadata": {
    "deletable": false,
    "editable": false,
    "nbgrader": {
     "checksum": "74638d21bd238bcc28672143908e8b8c",
     "grade": false,
     "grade_id": "cell-44d4a941d4aef83e",
     "locked": true,
     "schema_version": 1,
     "solution": false
    }
   },
   "outputs": [],
   "source": [
    "evaluator = evaluation.BinaryClassificationEvaluator(labelCol='type')"
   ]
  },
  {
   "cell_type": "markdown",
   "metadata": {},
   "source": [
    "For example, the AUC on training of the first model is perfect:\n",
    "\n",
    "```\n",
    "evaluator.evaluate(lr_pipeline1.transform(training_df))\n",
    "```\n",
    "\n",
    "```console\n",
    "1.0\n",
    "```"
   ]
  },
  {
   "cell_type": "code",
   "execution_count": 18,
   "metadata": {
    "deletable": false,
    "nbgrader": {
     "checksum": "6d2b1fd1d3f5e9dbcd1986f7c6486293",
     "grade": false,
     "grade_id": "cell-a9d883059572796b",
     "locked": false,
     "schema_version": 1,
     "solution": true
    }
   },
   "outputs": [
    {
     "name": "stdout",
     "output_type": "stream",
     "text": [
      "Model 1 AUC:  0.9606171229900157\n",
      "Model 2 AUC:  0.9900130378096487\n",
      "Model 3 AUC:  0.9543473851948426\n"
     ]
    }
   ],
   "source": [
    "# print the AUC for the three models as follows\n",
    "# print(\"Model 1 AUC: \", evaluator.evaluate(....))\n",
    "# etc\n",
    "# finally, based on these, assign the best validated \n",
    "# model to a variable best_model\n",
    "AUC1 = evaluator.evaluate(lr_pipeline1.transform(validation_df))\n",
    "AUC2 = evaluator.evaluate(lr_pipeline2.transform(validation_df))\n",
    "AUC3 = evaluator.evaluate(lr_pipeline3.transform(validation_df))\n",
    "print(\"Model 1 AUC: \", AUC1)\n",
    "print(\"Model 2 AUC: \", AUC2)\n",
    "print(\"Model 3 AUC: \", AUC3)\n",
    "best_model = lr_pipeline2\n",
    "#raise NotImplementedError()"
   ]
  },
  {
   "cell_type": "code",
   "execution_count": 19,
   "metadata": {
    "deletable": false,
    "editable": false,
    "nbgrader": {
     "checksum": "1c76a13060b46900aa055920ae5f6a2f",
     "grade": true,
     "grade_id": "cell-29d52d2cec5c8a1e",
     "locked": true,
     "points": 5,
     "schema_version": 1,
     "solution": false
    }
   },
   "outputs": [],
   "source": [
    "# (5 pts)\n",
    "np.testing.assert_array_equal([type(AUC1), type(AUC2), type(AUC3)],\n",
    "                             [float, float, float])\n",
    "# AUC less than 1\n",
    "np.testing.assert_array_less([AUC1, AUC2, AUC3], [1, 1, 1])\n",
    "# AUC more than 0.5\n",
    "np.testing.assert_array_less([.5, .5, .5],\n",
    "                            [AUC1, AUC2, AUC3])"
   ]
  },
  {
   "cell_type": "markdown",
   "metadata": {},
   "source": [
    "# Question 2.5: Choose best model\n",
    "\n",
    "Using the right split and the best model selected before, compute the generalization performance and assign it to a variable `AUC_best`"
   ]
  },
  {
   "cell_type": "code",
   "execution_count": 40,
   "metadata": {
    "deletable": false,
    "nbgrader": {
     "checksum": "7780410d49dd0727bea11bcfa2ec75de",
     "grade": false,
     "grade_id": "cell-2d30a81f9c08fc5d",
     "locked": false,
     "schema_version": 1,
     "solution": true
    }
   },
   "outputs": [],
   "source": [
    "# assign to AUC_best the AUC of the best model selected before\n",
    "AUC_best= evaluator.evaluate(lr_pipeline2.transform(testing_df))\n",
    "#raise NotImplementedError()"
   ]
  },
  {
   "cell_type": "code",
   "execution_count": 41,
   "metadata": {
    "deletable": false,
    "editable": false,
    "nbgrader": {
     "checksum": "77cef30af04406aeee070bae31e75129",
     "grade": true,
     "grade_id": "cell-dc8fd7d7ce658642",
     "locked": true,
     "points": 5,
     "schema_version": 1,
     "solution": false
    }
   },
   "outputs": [],
   "source": [
    "# (5 pts)\n",
    "np.testing.assert_approx_equal(AUC_best, \n",
    "                               0.976126746201693, significant=2)"
   ]
  },
  {
   "cell_type": "markdown",
   "metadata": {},
   "source": [
    "Using the same split and the best model, compute `precision`, `recall` and `f1_score`. You should first count the numbers in the confusion matrix, and then compute these metrics based on the formula."
   ]
  },
  {
   "cell_type": "code",
   "execution_count": 77,
   "metadata": {},
   "outputs": [
    {
     "data": {
      "text/plain": [
       "0.888888888888889"
      ]
     },
     "execution_count": 77,
     "metadata": {},
     "output_type": "execute_result"
    }
   ],
   "source": [
    "# YOUR CODE HERE\n",
    "from pyspark.sql.types import FloatType\n",
    "from pyspark.mllib.evaluation import MulticlassMetrics\n",
    "predictions = lr_pipeline2.transform(testing_df)\n",
    "preds_and_labels = predictions.select(['prediction','type']).withColumn('type', fn.col('type').cast(FloatType())).orderBy('prediction')\n",
    "\n",
    "#select only prediction and label columns\n",
    "preds_and_labels = preds_and_labels.select(['prediction','type'])\n",
    "\n",
    "confusion_matrix = MulticlassMetrics(preds_and_labels.rdd.map(tuple)).confusionMatrix().toArray()\n",
    "confusion_matrix\n",
    "precision = confusion_matrix[1,1]/np.add(confusion_matrix[0,1], confusion_matrix[1,1])\n",
    "recall = confusion_matrix[1,1]/np.add(confusion_matrix[1,0], confusion_matrix[1,1])\n",
    "f1_score = 2*(precision*recall)/(precision+recall)\n",
    "\n",
    "#raise NotImplementedError()"
   ]
  },
  {
   "cell_type": "code",
   "execution_count": 78,
   "metadata": {},
   "outputs": [],
   "source": [
    "# (5 pts)\n",
    "np.testing.assert_array_almost_equal([precision, recall, f1_score],\n",
    "    [1.0, 0.7976190476190477, 0.8874172185430463],\n",
    "                                     decimal=2)"
   ]
  },
  {
   "cell_type": "markdown",
   "metadata": {},
   "source": [
    "# Question 2.6: Inference\n",
    "\n",
    "Use the pipeline 2 fitted above (`lr_pipeline2`) to create Pandas dataframes that contain the most negative words and the most positive words. In particular, create a dataframe `positive_words` with the columns `word` and `weight` with the top 20 positive words, sorted by descending coefficient. Similarly create a `negative_words` Pandas dataframe with the top 20 negative words where the coefficient are sorted in ascending order. **Hint: follow the `sentiment_analysis.ipynb` notebook in the repo**"
   ]
  },
  {
   "cell_type": "code",
   "execution_count": 24,
   "metadata": {
    "deletable": false,
    "nbgrader": {
     "checksum": "b517fb83f670ea60b1fdb1580356a410",
     "grade": false,
     "grade_id": "cell-9fa9de453a36f8d2",
     "locked": false,
     "schema_version": 1,
     "solution": true
    }
   },
   "outputs": [],
   "source": [
    "# create positive_words and negative_words pandas dataframe below\n",
    "import pandas as pd\n",
    "vocabulary = tfidf_pipeline.stages[1].vocabulary\n",
    "weights = lr_pipeline2.stages[-1].coefficients.toArray()\n",
    "coeffs_df = pd.DataFrame({'word': vocabulary, 'weight': weights})\n",
    "positive_words=coeffs_df.sort_values('weight',ascending=False).head(20)\n",
    "negative_words=coeffs_df.sort_values('weight',ascending=True).head(20)\n",
    "#raise NotImplementedError()"
   ]
  },
  {
   "cell_type": "code",
   "execution_count": 25,
   "metadata": {},
   "outputs": [
    {
     "data": {
      "text/html": [
       "<div>\n",
       "<style scoped>\n",
       "    .dataframe tbody tr th:only-of-type {\n",
       "        vertical-align: middle;\n",
       "    }\n",
       "\n",
       "    .dataframe tbody tr th {\n",
       "        vertical-align: top;\n",
       "    }\n",
       "\n",
       "    .dataframe thead th {\n",
       "        text-align: right;\n",
       "    }\n",
       "</style>\n",
       "<table border=\"1\" class=\"dataframe\">\n",
       "  <thead>\n",
       "    <tr style=\"text-align: right;\">\n",
       "      <th></th>\n",
       "      <th>word</th>\n",
       "      <th>weight</th>\n",
       "    </tr>\n",
       "  </thead>\n",
       "  <tbody>\n",
       "    <tr>\n",
       "      <th>7263</th>\n",
       "      <td>sexy?</td>\n",
       "      <td>0.642738</td>\n",
       "    </tr>\n",
       "    <tr>\n",
       "      <th>3555</th>\n",
       "      <td>widelive.com/index.</td>\n",
       "      <td>0.588182</td>\n",
       "    </tr>\n",
       "    <tr>\n",
       "      <th>15</th>\n",
       "      <td>call</td>\n",
       "      <td>0.537161</td>\n",
       "    </tr>\n",
       "    <tr>\n",
       "      <th>12237</th>\n",
       "      <td>08714712388</td>\n",
       "      <td>0.504090</td>\n",
       "    </tr>\n",
       "    <tr>\n",
       "      <th>81</th>\n",
       "      <td>txt</td>\n",
       "      <td>0.495005</td>\n",
       "    </tr>\n",
       "  </tbody>\n",
       "</table>\n",
       "</div>"
      ],
      "text/plain": [
       "                      word    weight\n",
       "7263                 sexy?  0.642738\n",
       "3555   widelive.com/index.  0.588182\n",
       "15                    call  0.537161\n",
       "12237          08714712388  0.504090\n",
       "81                     txt  0.495005"
      ]
     },
     "execution_count": 25,
     "metadata": {},
     "output_type": "execute_result"
    }
   ],
   "source": [
    "# examine positive vocabulary\n",
    "positive_words.head()"
   ]
  },
  {
   "cell_type": "code",
   "execution_count": 87,
   "metadata": {},
   "outputs": [
    {
     "data": {
      "text/html": [
       "<div>\n",
       "<style scoped>\n",
       "    .dataframe tbody tr th:only-of-type {\n",
       "        vertical-align: middle;\n",
       "    }\n",
       "\n",
       "    .dataframe tbody tr th {\n",
       "        vertical-align: top;\n",
       "    }\n",
       "\n",
       "    .dataframe thead th {\n",
       "        text-align: right;\n",
       "    }\n",
       "</style>\n",
       "<table border=\"1\" class=\"dataframe\">\n",
       "  <thead>\n",
       "    <tr style=\"text-align: right;\">\n",
       "      <th></th>\n",
       "      <th>word</th>\n",
       "      <th>weight</th>\n",
       "    </tr>\n",
       "  </thead>\n",
       "  <tbody>\n",
       "    <tr>\n",
       "      <th>1</th>\n",
       "      <td>i</td>\n",
       "      <td>-0.183463</td>\n",
       "    </tr>\n",
       "    <tr>\n",
       "      <th>3332</th>\n",
       "      <td>lose.</td>\n",
       "      <td>-0.074937</td>\n",
       "    </tr>\n",
       "    <tr>\n",
       "      <th>3371</th>\n",
       "      <td>fightng</td>\n",
       "      <td>-0.074937</td>\n",
       "    </tr>\n",
       "    <tr>\n",
       "      <th>3221</th>\n",
       "      <td>dificult</td>\n",
       "      <td>-0.074937</td>\n",
       "    </tr>\n",
       "    <tr>\n",
       "      <th>13</th>\n",
       "      <td>me</td>\n",
       "      <td>-0.065904</td>\n",
       "    </tr>\n",
       "  </tbody>\n",
       "</table>\n",
       "</div>"
      ],
      "text/plain": [
       "          word    weight\n",
       "1            i -0.183463\n",
       "3332     lose. -0.074937\n",
       "3371   fightng -0.074937\n",
       "3221  dificult -0.074937\n",
       "13          me -0.065904"
      ]
     },
     "execution_count": 87,
     "metadata": {},
     "output_type": "execute_result"
    }
   ],
   "source": [
    "# examine solutions\n",
    "negative_words.head()"
   ]
  },
  {
   "cell_type": "markdown",
   "metadata": {},
   "source": [
    "The `positive_words` and `negative_words` dataframe should look like this:\n",
    "\n",
    "```python\n",
    "positive_words.head()\n",
    "```\n",
    "\n",
    "<table border=\"1\" class=\"dataframe\">\n",
    "  <thead>\n",
    "    <tr style=\"text-align: right;\">\n",
    "      <th></th>\n",
    "      <th>word</th>\n",
    "      <th>weight</th>\n",
    "    </tr>\n",
    "  </thead>\n",
    "  <tbody>\n",
    "    <tr>\n",
    "      <th>3555</th>\n",
    "      <td>widelive.com/index.</td>\n",
    "      <td>0.590870</td>\n",
    "    </tr>\n",
    "    <tr>\n",
    "      <th>12237</th>\n",
    "      <td>08714712388</td>\n",
    "      <td>0.533567</td>\n",
    "    </tr>\n",
    "    <tr>\n",
    "      <th>15</th>\n",
    "      <td>call</td>\n",
    "      <td>0.517100</td>\n",
    "    </tr>\n",
    "    <tr>\n",
    "      <th>81</th>\n",
    "      <td>txt</td>\n",
    "      <td>0.513278</td>\n",
    "    </tr>\n",
    "    <tr>\n",
    "      <th>9064</th>\n",
    "      <td>gbp/sms</td>\n",
    "      <td>0.468274</td>\n",
    "    </tr>\n",
    "  </tbody>\n",
    "</table>\n",
    "\n",
    "and \n",
    "\n",
    "```python\n",
    "negative_words.head()\n",
    "```\n",
    "\n",
    "<table border=\"1\" class=\"dataframe\">\n",
    "  <thead>\n",
    "    <tr style=\"text-align: right;\">\n",
    "      <th></th>\n",
    "      <th>word</th>\n",
    "      <th>weight</th>\n",
    "    </tr>\n",
    "  </thead>\n",
    "  <tbody>\n",
    "    <tr>\n",
    "      <th>1</th>\n",
    "      <td>i</td>\n",
    "      <td>-0.162493</td>\n",
    "    </tr>\n",
    "    <tr>\n",
    "      <th>2444</th>\n",
    "      <td>fighting</td>\n",
    "      <td>-0.060939</td>\n",
    "    </tr>\n",
    "    <tr>\n",
    "      <th>3221</th>\n",
    "      <td>dificult</td>\n",
    "      <td>-0.059061</td>\n",
    "    </tr>\n",
    "    <tr>\n",
    "      <th>3371</th>\n",
    "      <td>fightng</td>\n",
    "      <td>-0.059061</td>\n",
    "    </tr>\n",
    "    <tr>\n",
    "      <th>3332</th>\n",
    "      <td>lose.</td>\n",
    "      <td>-0.059061</td>\n",
    "    </tr>\n",
    "  </tbody>\n",
    "</table>"
   ]
  },
  {
   "cell_type": "code",
   "execution_count": 26,
   "metadata": {
    "deletable": false,
    "editable": false,
    "nbgrader": {
     "checksum": "9d1c1cfaa5326d7403d0c48891dea0b0",
     "grade": true,
     "grade_id": "cell-5926b249c3d8d910",
     "locked": true,
     "points": 5,
     "schema_version": 1,
     "solution": false
    }
   },
   "outputs": [
    {
     "ename": "AssertionError",
     "evalue": "\nItems are not equal to 2 significant digits:\n ACTUAL: 8.675741267346242\n DESIRED: 8.370148569231793",
     "output_type": "error",
     "traceback": [
      "\u001b[0;31m---------------------------------------------------------------------------\u001b[0m",
      "\u001b[0;31mAssertionError\u001b[0m                            Traceback (most recent call last)",
      "\u001b[0;32m<ipython-input-26-ee1f593d313c>\u001b[0m in \u001b[0;36m<module>\u001b[0;34m\u001b[0m\n\u001b[1;32m      2\u001b[0m \u001b[0mnp\u001b[0m\u001b[0;34m.\u001b[0m\u001b[0mtesting\u001b[0m\u001b[0;34m.\u001b[0m\u001b[0massert_equal\u001b[0m\u001b[0;34m(\u001b[0m\u001b[0mset\u001b[0m\u001b[0;34m(\u001b[0m\u001b[0mpositive_words\u001b[0m\u001b[0;34m.\u001b[0m\u001b[0mcolumns\u001b[0m\u001b[0;34m)\u001b[0m\u001b[0;34m,\u001b[0m \u001b[0;34m{\u001b[0m\u001b[0;34m'weight'\u001b[0m\u001b[0;34m,\u001b[0m \u001b[0;34m'word'\u001b[0m\u001b[0;34m}\u001b[0m\u001b[0;34m)\u001b[0m\u001b[0;34m\u001b[0m\u001b[0;34m\u001b[0m\u001b[0m\n\u001b[1;32m      3\u001b[0m \u001b[0mnp\u001b[0m\u001b[0;34m.\u001b[0m\u001b[0mtesting\u001b[0m\u001b[0;34m.\u001b[0m\u001b[0massert_equal\u001b[0m\u001b[0;34m(\u001b[0m\u001b[0mset\u001b[0m\u001b[0;34m(\u001b[0m\u001b[0mnegative_words\u001b[0m\u001b[0;34m.\u001b[0m\u001b[0mcolumns\u001b[0m\u001b[0;34m)\u001b[0m\u001b[0;34m,\u001b[0m \u001b[0;34m{\u001b[0m\u001b[0;34m'weight'\u001b[0m\u001b[0;34m,\u001b[0m \u001b[0;34m'word'\u001b[0m\u001b[0;34m}\u001b[0m\u001b[0;34m)\u001b[0m\u001b[0;34m\u001b[0m\u001b[0;34m\u001b[0m\u001b[0m\n\u001b[0;32m----> 4\u001b[0;31m \u001b[0mnp\u001b[0m\u001b[0;34m.\u001b[0m\u001b[0mtesting\u001b[0m\u001b[0;34m.\u001b[0m\u001b[0massert_approx_equal\u001b[0m\u001b[0;34m(\u001b[0m\u001b[0mpositive_words\u001b[0m\u001b[0;34m.\u001b[0m\u001b[0mweight\u001b[0m\u001b[0;34m.\u001b[0m\u001b[0msum\u001b[0m\u001b[0;34m(\u001b[0m\u001b[0;34m)\u001b[0m\u001b[0;34m,\u001b[0m \u001b[0;36m8.3701485692317927\u001b[0m\u001b[0;34m,\u001b[0m \u001b[0msignificant\u001b[0m\u001b[0;34m=\u001b[0m\u001b[0;36m2\u001b[0m\u001b[0;34m)\u001b[0m\u001b[0;34m\u001b[0m\u001b[0;34m\u001b[0m\u001b[0m\n\u001b[0m\u001b[1;32m      5\u001b[0m \u001b[0mnp\u001b[0m\u001b[0;34m.\u001b[0m\u001b[0mtesting\u001b[0m\u001b[0;34m.\u001b[0m\u001b[0massert_approx_equal\u001b[0m\u001b[0;34m(\u001b[0m\u001b[0mnegative_words\u001b[0m\u001b[0;34m.\u001b[0m\u001b[0mweight\u001b[0m\u001b[0;34m.\u001b[0m\u001b[0msum\u001b[0m\u001b[0;34m(\u001b[0m\u001b[0;34m)\u001b[0m\u001b[0;34m,\u001b[0m \u001b[0;34m-\u001b[0m\u001b[0;36m0.6661952507442954\u001b[0m\u001b[0;34m,\u001b[0m \u001b[0msignificant\u001b[0m\u001b[0;34m=\u001b[0m\u001b[0;36m2\u001b[0m\u001b[0;34m)\u001b[0m\u001b[0;34m\u001b[0m\u001b[0;34m\u001b[0m\u001b[0m\n\u001b[1;32m      6\u001b[0m \u001b[0mnp\u001b[0m\u001b[0;34m.\u001b[0m\u001b[0mtesting\u001b[0m\u001b[0;34m.\u001b[0m\u001b[0massert_array_less\u001b[0m\u001b[0;34m(\u001b[0m\u001b[0mpositive_words\u001b[0m\u001b[0;34m.\u001b[0m\u001b[0mweight\u001b[0m\u001b[0;34m.\u001b[0m\u001b[0miloc\u001b[0m\u001b[0;34m[\u001b[0m\u001b[0;34m-\u001b[0m\u001b[0;36m1\u001b[0m\u001b[0;34m]\u001b[0m\u001b[0;34m,\u001b[0m \u001b[0mpositive_words\u001b[0m\u001b[0;34m.\u001b[0m\u001b[0mweight\u001b[0m\u001b[0;34m.\u001b[0m\u001b[0miloc\u001b[0m\u001b[0;34m[\u001b[0m\u001b[0;36m0\u001b[0m\u001b[0;34m]\u001b[0m\u001b[0;34m)\u001b[0m\u001b[0;34m\u001b[0m\u001b[0;34m\u001b[0m\u001b[0m\n",
      "\u001b[0;32m/opt/conda/lib/python3.8/site-packages/numpy/testing/_private/utils.py\u001b[0m in \u001b[0;36massert_approx_equal\u001b[0;34m(actual, desired, significant, err_msg, verbose)\u001b[0m\n\u001b[1;32m    692\u001b[0m         \u001b[0;32mpass\u001b[0m\u001b[0;34m\u001b[0m\u001b[0;34m\u001b[0m\u001b[0m\n\u001b[1;32m    693\u001b[0m     \u001b[0;32mif\u001b[0m \u001b[0mnp\u001b[0m\u001b[0;34m.\u001b[0m\u001b[0mabs\u001b[0m\u001b[0;34m(\u001b[0m\u001b[0msc_desired\u001b[0m \u001b[0;34m-\u001b[0m \u001b[0msc_actual\u001b[0m\u001b[0;34m)\u001b[0m \u001b[0;34m>=\u001b[0m \u001b[0mnp\u001b[0m\u001b[0;34m.\u001b[0m\u001b[0mpower\u001b[0m\u001b[0;34m(\u001b[0m\u001b[0;36m10.\u001b[0m\u001b[0;34m,\u001b[0m \u001b[0;34m-\u001b[0m\u001b[0;34m(\u001b[0m\u001b[0msignificant\u001b[0m\u001b[0;34m-\u001b[0m\u001b[0;36m1\u001b[0m\u001b[0;34m)\u001b[0m\u001b[0;34m)\u001b[0m\u001b[0;34m:\u001b[0m\u001b[0;34m\u001b[0m\u001b[0;34m\u001b[0m\u001b[0m\n\u001b[0;32m--> 694\u001b[0;31m         \u001b[0;32mraise\u001b[0m \u001b[0mAssertionError\u001b[0m\u001b[0;34m(\u001b[0m\u001b[0mmsg\u001b[0m\u001b[0;34m)\u001b[0m\u001b[0;34m\u001b[0m\u001b[0;34m\u001b[0m\u001b[0m\n\u001b[0m\u001b[1;32m    695\u001b[0m \u001b[0;34m\u001b[0m\u001b[0m\n\u001b[1;32m    696\u001b[0m \u001b[0;34m\u001b[0m\u001b[0m\n",
      "\u001b[0;31mAssertionError\u001b[0m: \nItems are not equal to 2 significant digits:\n ACTUAL: 8.675741267346242\n DESIRED: 8.370148569231793"
     ]
    }
   ],
   "source": [
    "# (5 pts)\n",
    "np.testing.assert_equal(set(positive_words.columns), {'weight', 'word'})\n",
    "np.testing.assert_equal(set(negative_words.columns), {'weight', 'word'})\n",
    "np.testing.assert_approx_equal(positive_words.weight.sum(), 8.3701485692317927, significant=2)\n",
    "np.testing.assert_approx_equal(negative_words.weight.sum(), -0.6661952507442954, significant=2)\n",
    "np.testing.assert_array_less(positive_words.weight.iloc[-1], positive_words.weight.iloc[0])\n",
    "np.testing.assert_array_less(negative_words.weight.iloc[0], negative_words.weight.iloc[-1])"
   ]
  },
  {
   "cell_type": "markdown",
   "metadata": {},
   "source": [
    "# Question 2.7\n",
    "Use the dataframe `sms_spam3_df` to create a model where the first feature is `has_uppercase` and the next set of features are the tfidf of the text. Perform feature engineering in all features using a max absolute scaler ([`MaxAbsScaler`](https://spark.apache.org/docs/2.0.2/ml-features.html#maxabsscaler)). Do a logistic regression on the resulting scaled features with regularization parameter $\\lambda = 0.2$ and elastic net mixture $\\alpha=0.1$ for the entire data (all of `sms_spam3_df`). Since you have scaled all features to be within the same range, you can compare them. \n",
    "\n",
    "**(5 pts)** with code and comments, answer below\n",
    "\n",
    "1. is `has_uppercase` a feature that is positively or negative related to an SMS being spam?\n",
    "2. what is the ratio of the coefficient of `has_uppercase` to the biggest positive tfidf coefficient?"
   ]
  },
  {
   "cell_type": "code",
   "execution_count": 80,
   "metadata": {
    "deletable": false,
    "nbgrader": {
     "checksum": "b811be2a38e793ee1cfdbc0c0624addb",
     "grade": true,
     "grade_id": "cell-63ad341d276b5971",
     "locked": false,
     "points": 5,
     "schema_version": 1,
     "solution": true
    }
   },
   "outputs": [],
   "source": [
    "# your code and comments below\n",
    "tokenizer2 = Tokenizer().setInputCol('text').setOutputCol('words')\n",
    "count_vectorizer_estimator2 = CountVectorizer().setInputCol('words').setOutputCol('tf')\n",
    "idf2 = IDF().setInputCol('tf').setOutputCol('tfidf')\n",
    "va = feature.VectorAssembler(inputCols=['has_uppercase', 'tfidf'], outputCol='features')\n",
    "scaler = feature.MaxAbsScaler().setInputCol('features').setOutputCol('scaledFeatures')\n",
    "tfidf_pipeline2 = Pipeline(stages=[tokenizer2, count_vectorizer_estimator2,idf2,va,scaler]).fit(sms_spam3_df)\n",
    "tfidf_pipeline.transform(sms_spam3_df) \n",
    "lambda_par4 = 0.2\n",
    "alpha_par4 = 0.1\n",
    "en_lr4 = LogisticRegression().\\\n",
    "        setLabelCol('type').\\\n",
    "        setFeaturesCol('scaledFeatures').\\\n",
    "        setRegParam(lambda_par4).\\\n",
    "        setMaxIter(100).\\\n",
    "        setElasticNetParam(alpha_par4)\n",
    "lr_pipeline4 = Pipeline(stages=[tfidf_pipeline2, en_lr4]).fit(sms_spam3_df)\n",
    "#raise NotImplementedError()"
   ]
  },
  {
   "cell_type": "code",
   "execution_count": 86,
   "metadata": {},
   "outputs": [
    {
     "data": {
      "text/plain": [
       "0.9289178747599828"
      ]
     },
     "execution_count": 86,
     "metadata": {},
     "output_type": "execute_result"
    }
   ],
   "source": [
    "lr_pipeline4.stages[1].coefficients[0]\n",
    "#Since the coefficient for has_uppercase, which is the first element in the list of coefficients is 0.9289, has_uppercase is \n",
    "#positively related to an SMS being spam"
   ]
  },
  {
   "cell_type": "code",
   "execution_count": 88,
   "metadata": {},
   "outputs": [
    {
     "data": {
      "text/plain": [
       "0.4617005798337623"
      ]
     },
     "execution_count": 88,
     "metadata": {},
     "output_type": "execute_result"
    }
   ],
   "source": [
    "lr_pipeline4.stages[1].coefficients[0]/max(lr_pipeline4.stages[1].coefficients)\n",
    "#The ratio of the coefficient of has_uppercase to the biggest positive tfidf coefficient is 0.4617"
   ]
  }
 ],
 "metadata": {
  "kernelspec": {
   "display_name": "Python 3",
   "language": "python",
   "name": "python3"
  },
  "language_info": {
   "codemirror_mode": {
    "name": "ipython",
    "version": 3
   },
   "file_extension": ".py",
   "mimetype": "text/x-python",
   "name": "python",
   "nbconvert_exporter": "python",
   "pygments_lexer": "ipython3",
   "version": "3.8.6"
  },
  "toc": {
   "base_numbering": 1,
   "nav_menu": {},
   "number_sections": true,
   "sideBar": true,
   "skip_h1_title": false,
   "title_cell": "Table of Contents",
   "title_sidebar": "Contents",
   "toc_cell": false,
   "toc_position": {},
   "toc_section_display": true,
   "toc_window_display": false
  }
 },
 "nbformat": 4,
 "nbformat_minor": 4
}
